{
 "cells": [
  {
   "cell_type": "markdown",
   "metadata": {},
   "source": [
    "1. On race day in 2017, the high temperature was an unusually warm 71 degrees. On race day in 2015, the high temperature was 44 degrees.\n",
    "\n",
    "Take a sample of size 50 from each year. Based on these samples, is there statistical evidence that there was a difference in average paces in these two years? Address this question using an appropriate 95% confidence interval. You can use the true population standard deviation as computed from the data. Repeat for a 90% confidence interval.\n",
    "\n",
    "Repeat the above for samples of size 100 and 1000. Summarize your results. \n",
    "\n"
   ]
  },
  {
   "cell_type": "code",
   "execution_count": 1,
   "metadata": {},
   "outputs": [],
   "source": [
    "import numpy as np\n",
    "import scipy\n",
    "from scipy import stats\n",
    "import pandas as pd"
   ]
  },
  {
   "cell_type": "code",
   "execution_count": 2,
   "metadata": {},
   "outputs": [],
   "source": [
    "m2015 = pd.read_csv(\"marathon_results_2015.csv\")\n",
    "m2017 = pd.read_csv(\"marathon_results_2017.csv\")"
   ]
  },
  {
   "cell_type": "code",
   "execution_count": 3,
   "metadata": {},
   "outputs": [],
   "source": [
    "#problem 1\n",
    "\n",
    "def f(x):\n",
    "    return x.split(\":\")\n",
    "def to_minutes(x):\n",
    "    return (int(x[1])+ int(x[2])/60)\n",
    "\n",
    "m2015['Pace1'] = m2015['Pace'].apply(f).apply(to_minutes)\n",
    "m2015['Pace1'].head()\n",
    "m2015['Pace'] = m2015['Pace1']\n",
    "\n",
    "m2017['Pace1'] = m2017['Pace'].apply(f).apply(to_minutes)\n",
    "m2017['Pace1'].head()\n",
    "m2017['Pace'] = m2017['Pace1']"
   ]
  },
  {
   "cell_type": "code",
   "execution_count": 9,
   "metadata": {},
   "outputs": [
    {
     "name": "stdout",
     "output_type": "stream",
     "text": [
      "n=50 2015 95% CI:  6.190755911018315 12.247244088981692\n",
      "n=50 2017 95% CI:  5.997217534973373 12.298782465026626\n",
      "n=100 2015 95% CI:  5.473089244351647 11.529577422315022\n",
      "n=100 2017 95% CI:  6.193884201640039 12.495449131693292\n",
      "n=1000 2015 95% CI:  5.650022577684971 11.706510755648345\n",
      "n=1000 2017 95% CI:  5.996550868306702 12.298115798359955\n"
     ]
    }
   ],
   "source": [
    "std2015 = m2015['Pace'].std()\n",
    "std2017 = m2017['Pace'].std()\n",
    "\n",
    "smpl2015 = m2015['Pace'].sample(n=50)\n",
    "smpl2017 = m2017['Pace'].sample(n=50)\n",
    "\n",
    "xbar2015 = smpl2015.mean()\n",
    "xbar2017 = smpl2017.mean()\n",
    "zval = stats.norm.ppf(.975)\n",
    "\n",
    "lowlim2015 = xbar2015 - (zval*std2015)\n",
    "uplim2015 = xbar2015 + (zval*std2015)\n",
    "lowlim2017 = xbar2017 - (zval*std2017)\n",
    "uplim2017 = xbar2017 + (zval*std2017)\n",
    "\n",
    "print(\"n=50 2015 95% CI: \", lowlim2015, uplim2015)\n",
    "print(\"n=50 2017 95% CI: \", lowlim2017, uplim2017)\n",
    "\n",
    "#For a sample size of 50, it does not appear that there is any statistical evidence of difference in pace \n",
    "#since the confidence intervals overlap considerably\n",
    "\n",
    "#for n=100\n",
    "\n",
    "smpl2015 = m2015['Pace'].sample(n=100)\n",
    "smpl2017 = m2017['Pace'].sample(n=100)\n",
    "\n",
    "xbar2015 = smpl2015.mean()\n",
    "xbar2017 = smpl2017.mean()\n",
    "\n",
    "lowlim2015 = xbar2015 - (zval*std2015)\n",
    "uplim2015 = xbar2015 + (zval*std2015)\n",
    "lowlim2017 = xbar2017 - (zval*std2017)\n",
    "uplim2017 = xbar2017 + (zval*std2017)\n",
    "\n",
    "print(\"n=100 2015 95% CI: \", lowlim2015, uplim2015)\n",
    "print(\"n=100 2017 95% CI: \", lowlim2017, uplim2017)\n",
    "\n",
    "#n=1000\n",
    "\n",
    "smpl2015 = m2015['Pace'].sample(n=1000)\n",
    "smpl2017 = m2017['Pace'].sample(n=1000)\n",
    "\n",
    "xbar2015 = smpl2015.mean()\n",
    "xbar2017 = smpl2017.mean()\n",
    "\n",
    "lowlim2015 = xbar2015 - (zval*std2015)\n",
    "uplim2015 = xbar2015 + (zval*std2015)\n",
    "lowlim2017 = xbar2017 - (zval*std2017)\n",
    "uplim2017 = xbar2017 + (zval*std2017)\n",
    "\n",
    "print(\"n=1000 2015 95% CI: \", lowlim2015, uplim2015)\n",
    "print(\"n=1000 2017 95% CI: \", lowlim2017, uplim2017)\n",
    "\n",
    "#For the most part, the confidence intervals still overlap so this is further evidence that there was no difference in avg. pace."
   ]
  },
  {
   "cell_type": "markdown",
   "metadata": {},
   "source": [
    "2. Use the 2017 data and take samples of size 20, 50, 100, and 1000. For each sample, compute the proportion of female runners, and give a 90% and 95% confidence interval for the tru population proportion. Did your confidence interval capture the true proportion?    \n"
   ]
  },
  {
   "cell_type": "code",
   "execution_count": 65,
   "metadata": {},
   "outputs": [
    {
     "name": "stdout",
     "output_type": "stream",
     "text": [
      "0.14096269690460586 0.5590373030953941\n",
      "0.3415205342554172 0.6184794657445828\n",
      "0.3136024435617837 0.5063975564382163\n",
      "0.3983242781460906 0.45967572185390937\n",
      "#################################\n",
      "0.1745703651308157 0.5254296348691843\n",
      "0.3637843688532205 0.5962156311467794\n",
      "0.3291006204260082 0.49089937957399177\n",
      "0.4032561226896227 0.4547438773103773\n"
     ]
    }
   ],
   "source": [
    "m2017[\"Gender\"] = m2017['M/F']\n",
    "trueProp = len(m2017.Gender[m2017.Gender == \"F\"])/len(m2017.Gender)\n",
    "#.453313139\n",
    "\n",
    "smpl20 = m2017['Gender'].sample(n=20)\n",
    "smpl50 = m2017['Gender'].sample(n=50)\n",
    "smpl100 = m2017['Gender'].sample(n=100)\n",
    "smpl1000 = m2017['Gender'].sample(n=1000)\n",
    "\n",
    "smpl20Prop = len(smpl20[smpl20 == \"F\"])/len(smpl20)\n",
    "smpl50Prop = len(smpl50[smpl50 == \"F\"])/len(smpl50)\n",
    "smpl100Prop = len(smpl100[smpl100 == \"F\"])/len(smpl100)\n",
    "smpl1000Prop = len(smpl1000[smpl1000 == \"F\"])/len(smpl1000)\n",
    "\n",
    "pd.DataFrame(m2017['Gender'])\n",
    "genderList = []\n",
    "for i in m2017['Gender']:\n",
    "    if i == \"F\":\n",
    "        genderList.append(1)\n",
    "    else:\n",
    "        genderList.append(0)\n",
    "\n",
    "df = pd.DataFrame(genderList)\n",
    "df.columns = ['Gender']\n",
    "genderStDev = df.std()\n",
    "\n",
    "me20 = zval*np.sqrt((smpl20Prop*(1-smpl20Prop))/20)\n",
    "me50 = zval*np.sqrt((smpl50Prop*(1-smpl50Prop))/50)\n",
    "me100 = zval*np.sqrt((smpl100Prop*(1-smpl100Prop))/100)\n",
    "me1000 = zval*np.sqrt((smpl1000Prop*(1-smpl1000Prop))/1000)\n",
    "\n",
    "print(smpl20Prop - me20, smpl20Prop + me20)\n",
    "print(smpl50Prop - me50, smpl50Prop + me50)\n",
    "print(smpl100Prop - me100, smpl100Prop + me100)\n",
    "print(smpl1000Prop - me1000, smpl1000Prop + me1000)\n",
    "\n",
    "#we caught it in every interval, although it some cases it was close\n",
    "\n",
    "#90% CI\n",
    "\n",
    "zval = stats.norm.ppf(.95)\n",
    "\n",
    "me20 = zval*np.sqrt((smpl20Prop*(1-smpl20Prop))/20)\n",
    "me50 = zval*np.sqrt((smpl50Prop*(1-smpl50Prop))/50)\n",
    "me100 = zval*np.sqrt((smpl100Prop*(1-smpl100Prop))/100)\n",
    "me1000 = zval*np.sqrt((smpl1000Prop*(1-smpl1000Prop))/1000)\n",
    "\n",
    "print('#################################')\n",
    "\n",
    "print(smpl20Prop - me20, smpl20Prop + me20)\n",
    "print(smpl50Prop - me50, smpl50Prop + me50)\n",
    "print(smpl100Prop - me100, smpl100Prop + me100)\n",
    "print(smpl1000Prop - me1000, smpl1000Prop + me1000)\n",
    "\n",
    "#again, we catch it every time"
   ]
  },
  {
   "cell_type": "markdown",
   "metadata": {},
   "source": [
    "\n",
    "3. Use the bootstrap method to build empirical 90% confidence intervals for the true difference in the average paces between 2017 and 2015 for samples of size 30 and 50.\n"
   ]
  },
  {
   "cell_type": "code",
   "execution_count": 71,
   "metadata": {},
   "outputs": [
    {
     "name": "stdout",
     "output_type": "stream",
     "text": [
      "0.18611111111111156 1.3583333333333307\n",
      "###############\n",
      "-0.38199999999999457 0.6717333333333386\n"
     ]
    }
   ],
   "source": [
    "smpl30_2015 = m2015['Pace'].sample(n=30)\n",
    "smpl30_2017 = m2017['Pace'].sample(n=30)\n",
    "\n",
    "\n",
    "bstrap = []\n",
    "xbar2015 = smpl30_2015.mean()\n",
    "xbar2017 = smpl30_2017.mean()\n",
    "xbarDiff = xbar2017-xbar2015\n",
    "\n",
    "for i in range (10000):\n",
    "    x = smpl30_2015.sample(frac = 1, replace = True)\n",
    "    xstar = x.mean()\n",
    "    y = smpl30_2017.sample(frac = 1, replace = True)\n",
    "    ystar = y.mean()\n",
    "    bstrap.append((ystar - xstar)- (xbar2017-xbar2015))\n",
    "\n",
    "#bstrap contains differences in sample means\n",
    "a,b = np.quantile(bstrap, .05), np.quantile(bstrap, .95)\n",
    "\n",
    "print(xbarDiff - b,xbarDiff - a)\n",
    "    \n",
    "print(\"###############\")\n",
    "#n=50\n",
    "\n",
    "smpl30_2015 = m2015['Pace'].sample(n=50)\n",
    "smpl30_2017 = m2017['Pace'].sample(n=50)\n",
    "\n",
    "\n",
    "bstrap = []\n",
    "xbar2015 = smpl30_2015.mean()\n",
    "xbar2017 = smpl30_2017.mean()\n",
    "xbarDiff = xbar2017-xbar2015\n",
    "\n",
    "for i in range (10000):\n",
    "    x = smpl30_2015.sample(frac = 1, replace = True)\n",
    "    xstar = x.mean()\n",
    "    y = smpl30_2017.sample(frac = 1, replace = True)\n",
    "    ystar = y.mean()\n",
    "    bstrap.append((ystar - xstar)- (xbar2017-xbar2015))\n",
    "\n",
    "#bstrap contains differences in sample means\n",
    "a,b = np.quantile(bstrap, .05), np.quantile(bstrap, .95)\n",
    "\n",
    "print(xbarDiff - b,xbarDiff - a)\n"
   ]
  },
  {
   "cell_type": "markdown",
   "metadata": {},
   "source": [
    "4. Use the bootstrap method to build empirical 90% confidence intervals for the true proportion of female runners in the 2017 race.  Use samples of size 30, 100, and 1000."
   ]
  },
  {
   "cell_type": "code",
   "execution_count": 78,
   "metadata": {},
   "outputs": [
    {
     "name": "stdout",
     "output_type": "stream",
     "text": [
      "0.2666666666666667 0.5666666666666667\n",
      "######## n=100\n",
      "0.3 0.46\n",
      "######## n=1000\n",
      "0.44100000000000006 0.49300000000000005\n"
     ]
    }
   ],
   "source": [
    "#.453313139\n",
    "\n",
    "smpl30 = m2017['Gender'].sample(n=30)\n",
    "smpl30Prop = len(smpl30[smpl30 == \"F\"])/len(smpl30)\n",
    "\n",
    "bstrap = []\n",
    "for i in range(10000):\n",
    "    x = smpl30.sample(frac=1, replace = True)\n",
    "    xProp = len(x[x == \"F\"])/len(x)\n",
    "    bstrap.append(xProp - smpl30Prop)\n",
    "\n",
    "a,b = np.quantile(bstrap, .05), np.quantile(bstrap, .95)\n",
    "print(smpl30Prop - b, smpl30Prop - a)\n",
    "\n",
    "print('######## n=100')\n",
    "\n",
    "smpl30 = m2017['Gender'].sample(n=100)\n",
    "smpl30Prop = len(smpl30[smpl30 == \"F\"])/len(smpl30)\n",
    "\n",
    "bstrap = []\n",
    "for i in range(10000):\n",
    "    x = smpl30.sample(frac=1, replace = True)\n",
    "    xProp = len(x[x == \"F\"])/len(x)\n",
    "    bstrap.append(xProp - smpl30Prop)\n",
    "\n",
    "a,b = np.quantile(bstrap, .05), np.quantile(bstrap, .95)\n",
    "print(smpl30Prop - b, smpl30Prop - a)\n",
    "\n",
    "\n",
    "print('######## n=1000')\n",
    "\n",
    "smpl30 = m2017['Gender'].sample(n=1000)\n",
    "smpl30Prop = len(smpl30[smpl30 == \"F\"])/len(smpl30)\n",
    "\n",
    "bstrap = []\n",
    "for i in range(10000):\n",
    "    x = smpl30.sample(frac=1, replace = True)\n",
    "    xProp = len(x[x == \"F\"])/len(x)\n",
    "    bstrap.append(xProp - smpl30Prop)\n",
    "\n",
    "a,b = np.quantile(bstrap, .05), np.quantile(bstrap, .95)\n",
    "print(smpl30Prop - b, smpl30Prop - a)\n"
   ]
  }
 ],
 "metadata": {
  "kernelspec": {
   "display_name": "Python 3",
   "language": "python",
   "name": "python3"
  },
  "language_info": {
   "codemirror_mode": {
    "name": "ipython",
    "version": 3
   },
   "file_extension": ".py",
   "mimetype": "text/x-python",
   "name": "python",
   "nbconvert_exporter": "python",
   "pygments_lexer": "ipython3",
   "version": "3.8.5"
  }
 },
 "nbformat": 4,
 "nbformat_minor": 4
}
